{
 "cells": [
  {
   "cell_type": "markdown",
   "metadata": {},
   "source": [
    "# Claude + E2B Solana Development Environment\n",
    "\n",
    "**Powered by [Code Interpreter SDK](https://github.com/e2b-dev/code-interpreter) by [E2B](https://e2b.dev/docs)**\n",
    "\n",
    "This notebook creates a secure Solana development environment using Claude and E2B's code interpreter."
   ]
  },
  {
   "cell_type": "code",
   "execution_count": null,
   "metadata": {},
   "outputs": [],
   "source": [
    "%pip install e2b_code_interpreter==1.0.0 anthropic==0.35.0 python-dotenv==1.0.1"
   ]
  },
  {
   "cell_type": "code",
   "execution_count": null,
   "metadata": {},
   "outputs": [],
   "source": [
    "import os\n",
    "from dotenv import load_dotenv\n",
    "load_dotenv()\n",
    "\n",
    "# API keys\n",
    "ANTHROPIC_API_KEY = os.getenv(\"ANTHROPIC_API_KEY\")\n",
    "E2B_API_KEY = os.getenv(\"E2B_API_KEY\")\n",
    "\n",
    "# Use Claude 3.5 Sonnet for best results\n",
    "MODEL_NAME = 'claude-3-5-sonnet-20241022'\n",
    "\n",
    "SYSTEM_PROMPT = \"\"\"\n",
    "## Your role\n",
    "You are a Solana blockchain development expert. Your job is to help the user with Solana development tasks \n",
    "using Python and the Solana toolchain. You can run Python code directly in the notebook environment.\n",
    "\n",
    "## Environment capabilities\n",
    "- You can install and use any Python packages related to Solana development\n",
    "- You can create and manipulate Solana wallets, tokens, and transactions\n",
    "- You have access to the internet for documentation and API requests\n",
    "- You can work with local files for storing keypairs and other data\n",
    "\n",
    "## Task approach\n",
    "1. When asked to perform a Solana-related task, break it down into clear steps\n",
    "2. Implement and test using the Python Solana libraries\n",
    "3. Explain what each part of your code does in a clear, educational way\n",
    "4. Handle errors gracefully and explain solutions\n",
    "\n",
    "## Solana developer guidelines\n",
    "- Always use best security practices when working with private keys\n",
    "- Help users understand Solana's programming model and concepts\n",
    "- Suggest optimal approaches based on Solana's specific architecture\n",
    "- Don't hesitate to suggest improvements to the user's approach if you see better alternatives\n",
    "\"\"\"\n",
    "\n",
    "tools = [\n",
    "    {\n",
    "        \"name\": \"execute_python\",\n",
    "        \"description\": \"Execute python code in a Jupyter notebook cell and returns any result, stdout, stderr, display_data, and error.\",\n",
    "        \"input_schema\": {\n",
    "            \"type\": \"object\",\n",
    "            \"properties\": {\n",
    "                \"code\": {\n",
    "                    \"type\": \"string\",\n",
    "                    \"description\": \"The python code to execute in a single cell.\"\n",
    "                }\n",
    "            },\n",
    "            \"required\": [\"code\"]\n",
    "        }\n",
    "    }\n",
    "]"
   ]
  },
  {
   "cell_type": "code",
   "execution_count": null,
   "metadata": {},
   "outputs": [],
   "source": [
    "def code_interpret(e2b_code_interpreter, code):\n",
    "  print(\"Running code interpreter...\")\n",
    "  exec = e2b_code_interpreter.run_code(code,\n",
    "  on_stderr=lambda stderr: print(\"[Code Interpreter]\", stderr),\n",
    "  on_stdout=lambda stdout: print(\"[Code Interpreter]\", stdout))\n",
    "\n",
    "  if exec.error:\n",
    "    print(\"[Code Interpreter ERROR]\", exec.error)\n",
    "  else:\n",
    "    return exec.results"
   ]
  },
  {
   "cell_type": "code",
   "execution_count": null,
   "metadata": {},
   "outputs": [],
   "source": [
    "from anthropic import Anthropic\n",
    "client = Anthropic(\n",
    "    api_key=ANTHROPIC_API_KEY,\n",
    ")\n",
    "\n",
    "def process_tool_call(e2b_code_interpreter, tool_name, tool_input):\n",
    "    if tool_name == \"execute_python\":\n",
    "        return code_interpret(e2b_code_interpreter, tool_input[\"code\"])\n",
    "    return []\n",
    "\n",
    "def chat_with_claude(e2b_code_interpreter, user_message):\n",
    "    print(f\"\\n{'='*50}\\nUser Message: {user_message}\\n{'='*50}\")\n",
    "\n",
    "    message = client.messages.create(\n",
    "        model=MODEL_NAME,\n",
    "        system=SYSTEM_PROMPT,\n",
    "        max_tokens=4096,\n",
    "        messages=[{\"role\": \"user\", \"content\": user_message}],\n",
    "        tools=tools,\n",
    "    )\n",
    "\n",
    "    print(f\"\\nInitial Response:\")\n",
    "    print(f\"Stop Reason: {message.stop_reason}\")\n",
    "    print(f\"Content: {message.content}\")\n",
    "\n",
    "    if message.stop_reason == \"tool_use\":\n",
    "        tool_use = next(block for block in message.content if block.type == \"tool_use\")\n",
    "        tool_name = tool_use.name\n",
    "        tool_input = tool_use.input\n",
    "\n",
    "        print(f\"\\nTool Used: {tool_name}\")\n",
    "        print(f\"Tool Input: {tool_input}\")\n",
    "\n",
    "        code_interpreter_results = process_tool_call(e2b_code_interpreter, tool_name, tool_input)\n",
    "\n",
    "        print(f\"Tool Result: {code_interpreter_results}\")\n",
    "        return code_interpreter_results"
   ]
  },
  {
   "cell_type": "code",
   "execution_count": null,
   "metadata": {},
   "outputs": [],
   "source": [
    "from e2b_code_interpreter import CodeInterpreter\n",
    "\n",
    "e2b_code_interpreter = CodeInterpreter(api_key=E2B_API_KEY)\n",
    "\n",
    "# Setup the Solana development environment\n",
    "setup_message = \"\"\"Set up a Solana development environment in this notebook. Please:\n",
    "1. Install the necessary Python packages for Solana development\n",
    "2. Create a helper function to generate a new Solana wallet\n",
    "3. Show how to check the balance of a wallet\n",
    "4. Demonstrate a simple transaction\n",
    "\"\"\"\n",
    "\n",
    "chat_with_claude(e2b_code_interpreter, setup_message)"
   ]
  },
  {
   "cell_type": "code",
   "execution_count": null,
   "metadata": {},
   "outputs": [],
   "source": [
    "# Working with the CSV airdrop file\n",
    "airdrop_message = \"\"\"I have a CSV file for a Solana airdrop with this format:\n",
    "```\n",
    "8qVCcf8noS4m8z87Hk5nsCSiRj6VU31MNGaU5VhSBBkz,, 1000000\n",
    "HTFmbL1uL9UHBjUHgVEtzi7mKuiA7HAsgaCpNdQ7jW3f,, 1000000\n",
    "8mPLiSBnYV4Cd2HxXrTSxbWBRdWEKQyzbMEFxWpHDQbq,, 1000000\n",
    "```\n",
    "\n",
    "There seems to be an issue with the formatting. Can you:\n",
    "1. Create a function to parse and validate this CSV format for Solana airdrops\n",
    "2. Fix any formatting issues\n",
    "3. Show how we would use this data to perform token airdrops on Solana\n",
    "\"\"\"\n",
    "\n",
    "chat_with_claude(e2b_code_interpreter, airdrop_message)"
   ]
  },
  {
   "cell_type": "code",
   "execution_count": null,
   "metadata": {},
   "outputs": [],
   "source": [
    "# Ask more Solana development questions here\n",
    "custom_message = \"\"\"How can I create an SPL token on Solana using Python? Please show me example code that:\n",
    "1. Creates a new SPL token with custom parameters (name, symbol, decimals)\n",
    "2. Mints tokens to an owner wallet\n",
    "3. Transfers tokens to another wallet\n",
    "\"\"\"\n",
    "\n",
    "chat_with_claude(e2b_code_interpreter, custom_message)"
   ]
  },
  {
   "cell_type": "code",
   "execution_count": null,
   "metadata": {},
   "outputs": [],
   "source": [
    "# Clean up the E2B code interpreter when done\n",
    "e2b_code_interpreter.close()"
   ]
  }
 ],
 "metadata": {
  "kernelspec": {
   "display_name": "Python 3",
   "language": "python",
   "name": "python3"
  },
  "language_info": {
   "codemirror_mode": {
    "name": "ipython",
    "version": 3
   },
   "file_extension": ".py",
   "mimetype": "text/x-python",
   "name": "python",
   "nbconvert_exporter": "python",
   "pygments_lexer": "ipython3",
   "version": "3.11.0"
  }
 },
 "nbformat": 4,
 "nbformat_minor": 4
}
